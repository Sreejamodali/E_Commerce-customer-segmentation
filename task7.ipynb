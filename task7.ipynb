{
 "cells": [
  {
   "cell_type": "code",
   "execution_count": 1,
   "id": "8a11e7e8",
   "metadata": {},
   "outputs": [],
   "source": [
    "path=r\"C:\\\\Users\\\\SREEJA.M\\\\Downloads\\\\salary.txt\""
   ]
  },
  {
   "cell_type": "code",
   "execution_count": 2,
   "id": "1b041493",
   "metadata": {},
   "outputs": [],
   "source": [
    "import numpy as np\n",
    "import pandas as pd\n",
    "from sklearn.linear_model import LinearRegression\n",
    "import matplotlib.pyplot as plt\n",
    "import itertools as it\n",
    "import seaborn as sns"
   ]
  },
  {
   "cell_type": "code",
   "execution_count": 5,
   "id": "d1431ed1",
   "metadata": {},
   "outputs": [],
   "source": [
    "df=pd.read_fwf(path,names=[\"Sex\", \"Rank\", \"Year\", \"Degree\", \"YSdeg\", \"Salary\"])"
   ]
  },
  {
   "cell_type": "code",
   "execution_count": 6,
   "id": "1af89278",
   "metadata": {},
   "outputs": [
    {
     "data": {
      "text/html": [
       "<div>\n",
       "<style scoped>\n",
       "    .dataframe tbody tr th:only-of-type {\n",
       "        vertical-align: middle;\n",
       "    }\n",
       "\n",
       "    .dataframe tbody tr th {\n",
       "        vertical-align: top;\n",
       "    }\n",
       "\n",
       "    .dataframe thead th {\n",
       "        text-align: right;\n",
       "    }\n",
       "</style>\n",
       "<table border=\"1\" class=\"dataframe\">\n",
       "  <thead>\n",
       "    <tr style=\"text-align: right;\">\n",
       "      <th></th>\n",
       "      <th>Sex</th>\n",
       "      <th>Rank</th>\n",
       "      <th>Year</th>\n",
       "      <th>Degree</th>\n",
       "      <th>YSdeg</th>\n",
       "      <th>Salary</th>\n",
       "    </tr>\n",
       "  </thead>\n",
       "  <tbody>\n",
       "    <tr>\n",
       "      <th>0</th>\n",
       "      <td>0</td>\n",
       "      <td>3</td>\n",
       "      <td>25</td>\n",
       "      <td>1</td>\n",
       "      <td>35</td>\n",
       "      <td>36350</td>\n",
       "    </tr>\n",
       "    <tr>\n",
       "      <th>1</th>\n",
       "      <td>0</td>\n",
       "      <td>3</td>\n",
       "      <td>13</td>\n",
       "      <td>1</td>\n",
       "      <td>22</td>\n",
       "      <td>35350</td>\n",
       "    </tr>\n",
       "    <tr>\n",
       "      <th>2</th>\n",
       "      <td>0</td>\n",
       "      <td>3</td>\n",
       "      <td>10</td>\n",
       "      <td>1</td>\n",
       "      <td>23</td>\n",
       "      <td>28200</td>\n",
       "    </tr>\n",
       "    <tr>\n",
       "      <th>3</th>\n",
       "      <td>1</td>\n",
       "      <td>3</td>\n",
       "      <td>7</td>\n",
       "      <td>1</td>\n",
       "      <td>27</td>\n",
       "      <td>26775</td>\n",
       "    </tr>\n",
       "    <tr>\n",
       "      <th>4</th>\n",
       "      <td>0</td>\n",
       "      <td>3</td>\n",
       "      <td>19</td>\n",
       "      <td>0</td>\n",
       "      <td>30</td>\n",
       "      <td>33696</td>\n",
       "    </tr>\n",
       "  </tbody>\n",
       "</table>\n",
       "</div>"
      ],
      "text/plain": [
       "   Sex  Rank  Year  Degree  YSdeg  Salary\n",
       "0    0     3    25       1     35   36350\n",
       "1    0     3    13       1     22   35350\n",
       "2    0     3    10       1     23   28200\n",
       "3    1     3     7       1     27   26775\n",
       "4    0     3    19       0     30   33696"
      ]
     },
     "execution_count": 6,
     "metadata": {},
     "output_type": "execute_result"
    }
   ],
   "source": [
    "df.head()"
   ]
  },
  {
   "cell_type": "markdown",
   "id": "59a94259",
   "metadata": {},
   "source": [
    "#Features--->sex,Rank,Year,Degree,YSdeg         #Target---->Salary"
   ]
  },
  {
   "cell_type": "code",
   "execution_count": 7,
   "id": "7261065e",
   "metadata": {},
   "outputs": [],
   "source": [
    "df1=df\n",
    "y=df['Salary']\n",
    "x=df1.drop(['Salary'],axis=1)"
   ]
  },
  {
   "cell_type": "code",
   "execution_count": 9,
   "id": "471fd539",
   "metadata": {},
   "outputs": [
    {
     "data": {
      "text/plain": [
       "array([34400.87095406, 30280.8311962 , 28703.46131917, 27981.51222111,\n",
       "       33479.30927822, 31858.20107323, 25289.18504199, 32244.57279387,\n",
       "       30582.15067125, 30453.3600977 , 29797.97142837, 26046.74100297,\n",
       "       28993.34499261, 23450.90187105, 28091.8109778 , 28285.20660404,\n",
       "       30538.41234329, 26090.89886279, 25479.24852141, 28361.24745835,\n",
       "       21759.90109051, 22452.87980904, 28542.78775113, 28850.74370957,\n",
       "       24051.11641081, 26933.11534775, 24759.25479938, 28432.48899444,\n",
       "       23129.55473497, 21841.64899952, 21134.85957149, 23901.45911252,\n",
       "       19538.99787761, 21505.65209023, 22986.53392007, 20574.60998882,\n",
       "       18966.28654598, 17080.96071051, 16952.17013696, 17080.96071051,\n",
       "       16598.10094268, 17028.21099127, 20349.33136808, 17968.68401582,\n",
       "       16244.03174839, 16501.61289548, 17099.45252736, 17614.61482154,\n",
       "       16018.75312766, 17260.54562726, 17260.54562726, 16648.89528588])"
      ]
     },
     "execution_count": 9,
     "metadata": {},
     "output_type": "execute_result"
    }
   ],
   "source": [
    "# Linear Equation:\n",
    "regr = LinearRegression()\n",
    "regr.fit(x, y)\n",
    "Y_predict = regr.predict(x)\n",
    "Y_predict"
   ]
  },
  {
   "cell_type": "markdown",
   "id": "e6b0e8cc",
   "metadata": {},
   "source": [
    "Find the selection of columns with the best R^2 score."
   ]
  },
  {
   "cell_type": "code",
   "execution_count": 11,
   "id": "9d15570f",
   "metadata": {},
   "outputs": [
    {
     "data": {
      "text/plain": [
       "[('Sex',),\n",
       " ('Rank',),\n",
       " ('Year',),\n",
       " ('Degree',),\n",
       " ('YSdeg',),\n",
       " ('Sex', 'Rank'),\n",
       " ('Sex', 'Year'),\n",
       " ('Sex', 'Degree'),\n",
       " ('Sex', 'YSdeg'),\n",
       " ('Rank', 'Year'),\n",
       " ('Rank', 'Degree'),\n",
       " ('Rank', 'YSdeg'),\n",
       " ('Year', 'Degree'),\n",
       " ('Year', 'YSdeg'),\n",
       " ('Degree', 'YSdeg'),\n",
       " ('Sex', 'Rank', 'Year'),\n",
       " ('Sex', 'Rank', 'Degree'),\n",
       " ('Sex', 'Rank', 'YSdeg'),\n",
       " ('Sex', 'Year', 'Degree'),\n",
       " ('Sex', 'Year', 'YSdeg'),\n",
       " ('Sex', 'Degree', 'YSdeg'),\n",
       " ('Rank', 'Year', 'Degree'),\n",
       " ('Rank', 'Year', 'YSdeg'),\n",
       " ('Rank', 'Degree', 'YSdeg'),\n",
       " ('Year', 'Degree', 'YSdeg'),\n",
       " ('Sex', 'Rank', 'Year', 'Degree'),\n",
       " ('Sex', 'Rank', 'Year', 'YSdeg'),\n",
       " ('Sex', 'Rank', 'Degree', 'YSdeg'),\n",
       " ('Sex', 'Year', 'Degree', 'YSdeg'),\n",
       " ('Rank', 'Year', 'Degree', 'YSdeg'),\n",
       " ('Sex', 'Rank', 'Year', 'Degree', 'YSdeg')]"
      ]
     },
     "execution_count": 11,
     "metadata": {},
     "output_type": "execute_result"
    }
   ],
   "source": [
    "col_combinations = []\n",
    "\n",
    "for i in range(len(df.columns)):\n",
    "    col_combinations += list(it.combinations(x.columns, i+1))\n",
    "\n",
    "col_combinations"
   ]
  },
  {
   "cell_type": "code",
   "execution_count": 12,
   "id": "c62e6a94",
   "metadata": {},
   "outputs": [],
   "source": [
    "def reg_score(input_cols):\n",
    "    X_train = df[list(input_cols)]\n",
    "    Y_train = df['Salary'].values.reshape(-1,1)\n",
    "\n",
    "    # Linear Equation:\n",
    "    reg_LR = LinearRegression()\n",
    "    reg_LR.fit(X_train, Y_train)\n",
    "    return reg_LR.score(X_train, Y_train)"
   ]
  },
  {
   "cell_type": "code",
   "execution_count": 15,
   "id": "b869120c",
   "metadata": {},
   "outputs": [
    {
     "name": "stdout",
     "output_type": "stream",
     "text": [
      "('Sex',) 0.06389892583288004\n",
      "('Rank',) 0.7525360539274633\n",
      "('Year',) 0.49093702676921624\n",
      "('Degree',) 0.004861680984748373\n",
      "('YSdeg',) 0.4554281345836029\n",
      "('Sex', 'Rank') 0.7554917749443395\n",
      "('Sex', 'Year') 0.4911360941886387\n",
      "('Sex', 'Degree') 0.06643739842018881\n",
      "('Sex', 'YSdeg') 0.49304792719667834\n",
      "('Rank', 'Year') 0.8436480933264598\n",
      "('Rank', 'Degree') 0.7557961688386643\n",
      "('Rank', 'YSdeg') 0.7623948189698249\n",
      "('Year', 'Degree') 0.4919014149016442\n",
      "('Year', 'YSdeg') 0.5782019226431887\n",
      "('Degree', 'YSdeg') 0.5409662288237875\n",
      "('Sex', 'Rank', 'Year') 0.8454319861987165\n",
      "('Sex', 'Rank', 'Degree') 0.7583144768153613\n",
      "('Sex', 'Rank', 'YSdeg') 0.7666122610227071\n",
      "('Sex', 'Year', 'Degree') 0.49207944757472966\n",
      "('Sex', 'Year', 'YSdeg') 0.5808063918180406\n",
      "('Sex', 'Degree', 'YSdeg') 0.5832708257660315\n",
      "('Rank', 'Year', 'Degree') 0.8437395200874138\n",
      "('Rank', 'Year', 'YSdeg') 0.8456725764485596\n",
      "('Rank', 'Degree', 'YSdeg') 0.7625149185326454\n",
      "('Year', 'Degree', 'YSdeg') 0.6236261611533505\n",
      "('Sex', 'Rank', 'Year', 'Degree') 0.845547641297936\n",
      "('Sex', 'Rank', 'Year', 'YSdeg') 0.8490366192262853\n",
      "('Sex', 'Rank', 'Degree', 'YSdeg') 0.7671813414350668\n",
      "('Sex', 'Year', 'Degree', 'YSdeg') 0.6311597502907436\n",
      "('Rank', 'Year', 'Degree', 'YSdeg') 0.8485077204335425\n",
      "('Sex', 'Rank', 'Year', 'Degree', 'YSdeg') 0.8547180674410969\n"
     ]
    }
   ],
   "source": [
    "max_score = 0\n",
    "trains = []\n",
    "for i in col_combinations:\n",
    "    score = reg_score(i)\n",
    "    if max_score < score:\n",
    "        trains = []\n",
    "        max_score = score\n",
    "        trains += list(i)\n",
    "    print(i, reg_score(i))"
   ]
  },
  {
   "cell_type": "code",
   "execution_count": 18,
   "id": "f2d89413",
   "metadata": {},
   "outputs": [
    {
     "name": "stdout",
     "output_type": "stream",
     "text": [
      "['Sex', 'Rank', 'Year', 'Degree', 'YSdeg'] 0.8547180674410969\n"
     ]
    }
   ],
   "source": [
    "print(trains, max_score)"
   ]
  },
  {
   "cell_type": "code",
   "execution_count": null,
   "id": "75bfa94b",
   "metadata": {},
   "outputs": [],
   "source": []
  }
 ],
 "metadata": {
  "kernelspec": {
   "display_name": "Python 3 (ipykernel)",
   "language": "python",
   "name": "python3"
  },
  "language_info": {
   "codemirror_mode": {
    "name": "ipython",
    "version": 3
   },
   "file_extension": ".py",
   "mimetype": "text/x-python",
   "name": "python",
   "nbconvert_exporter": "python",
   "pygments_lexer": "ipython3",
   "version": "3.9.7"
  }
 },
 "nbformat": 4,
 "nbformat_minor": 5
}
